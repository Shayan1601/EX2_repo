{
  "nbformat": 4,
  "nbformat_minor": 0,
  "metadata": {
    "colab": {
      "provenance": [],
      "authorship_tag": "ABX9TyNalaTi1tXVwI3MFGN7RTrx",
      "include_colab_link": true
    },
    "kernelspec": {
      "name": "python3",
      "display_name": "Python 3"
    },
    "language_info": {
      "name": "python"
    }
  },
  "cells": [
    {
      "cell_type": "markdown",
      "metadata": {
        "id": "view-in-github",
        "colab_type": "text"
      },
      "source": [
        "<a href=\"https://colab.research.google.com/github/Shayan1601/EX2_repo/blob/main/mountaincarcontinuous.ipynb\" target=\"_parent\"><img src=\"https://colab.research.google.com/assets/colab-badge.svg\" alt=\"Open In Colab\"/></a>"
      ]
    },
    {
      "cell_type": "code",
      "source": [
        "!pip install keras\n",
        "!pip install keras-rl2\n",
        "!pip install gym[classic_control]\n",
        "!pip install \n",
        "!pip install xvfbwrapper"
      ],
      "metadata": {
        "colab": {
          "base_uri": "https://localhost:8080/"
        },
        "id": "HPnMzmwSn39s",
        "outputId": "670747ab-0806-4c64-bd13-9d2238849a22"
      },
      "execution_count": null,
      "outputs": [
        {
          "output_type": "stream",
          "name": "stdout",
          "text": [
            "Looking in indexes: https://pypi.org/simple, https://us-python.pkg.dev/colab-wheels/public/simple/\n",
            "Requirement already satisfied: keras in /usr/local/lib/python3.8/dist-packages (2.9.0)\n",
            "Looking in indexes: https://pypi.org/simple, https://us-python.pkg.dev/colab-wheels/public/simple/\n",
            "Requirement already satisfied: keras-rl2 in /usr/local/lib/python3.8/dist-packages (1.0.5)\n",
            "Requirement already satisfied: tensorflow in /usr/local/lib/python3.8/dist-packages (from keras-rl2) (2.9.2)\n",
            "Requirement already satisfied: absl-py>=1.0.0 in /usr/local/lib/python3.8/dist-packages (from tensorflow->keras-rl2) (1.4.0)\n",
            "Requirement already satisfied: keras<2.10.0,>=2.9.0rc0 in /usr/local/lib/python3.8/dist-packages (from tensorflow->keras-rl2) (2.9.0)\n",
            "Requirement already satisfied: protobuf<3.20,>=3.9.2 in /usr/local/lib/python3.8/dist-packages (from tensorflow->keras-rl2) (3.19.6)\n",
            "Requirement already satisfied: numpy>=1.20 in /usr/local/lib/python3.8/dist-packages (from tensorflow->keras-rl2) (1.21.6)\n",
            "Requirement already satisfied: wrapt>=1.11.0 in /usr/local/lib/python3.8/dist-packages (from tensorflow->keras-rl2) (1.14.1)\n",
            "Requirement already satisfied: flatbuffers<2,>=1.12 in /usr/local/lib/python3.8/dist-packages (from tensorflow->keras-rl2) (1.12)\n",
            "Requirement already satisfied: keras-preprocessing>=1.1.1 in /usr/local/lib/python3.8/dist-packages (from tensorflow->keras-rl2) (1.1.2)\n",
            "Requirement already satisfied: grpcio<2.0,>=1.24.3 in /usr/local/lib/python3.8/dist-packages (from tensorflow->keras-rl2) (1.51.1)\n",
            "Requirement already satisfied: gast<=0.4.0,>=0.2.1 in /usr/local/lib/python3.8/dist-packages (from tensorflow->keras-rl2) (0.4.0)\n",
            "Requirement already satisfied: google-pasta>=0.1.1 in /usr/local/lib/python3.8/dist-packages (from tensorflow->keras-rl2) (0.2.0)\n",
            "Requirement already satisfied: typing-extensions>=3.6.6 in /usr/local/lib/python3.8/dist-packages (from tensorflow->keras-rl2) (4.4.0)\n",
            "Requirement already satisfied: termcolor>=1.1.0 in /usr/local/lib/python3.8/dist-packages (from tensorflow->keras-rl2) (2.2.0)\n",
            "Requirement already satisfied: six>=1.12.0 in /usr/local/lib/python3.8/dist-packages (from tensorflow->keras-rl2) (1.15.0)\n",
            "Requirement already satisfied: astunparse>=1.6.0 in /usr/local/lib/python3.8/dist-packages (from tensorflow->keras-rl2) (1.6.3)\n",
            "Requirement already satisfied: libclang>=13.0.0 in /usr/local/lib/python3.8/dist-packages (from tensorflow->keras-rl2) (15.0.6.1)\n",
            "Requirement already satisfied: setuptools in /usr/local/lib/python3.8/dist-packages (from tensorflow->keras-rl2) (57.4.0)\n",
            "Requirement already satisfied: tensorflow-estimator<2.10.0,>=2.9.0rc0 in /usr/local/lib/python3.8/dist-packages (from tensorflow->keras-rl2) (2.9.0)\n",
            "Requirement already satisfied: h5py>=2.9.0 in /usr/local/lib/python3.8/dist-packages (from tensorflow->keras-rl2) (3.1.0)\n",
            "Requirement already satisfied: opt-einsum>=2.3.2 in /usr/local/lib/python3.8/dist-packages (from tensorflow->keras-rl2) (3.3.0)\n",
            "Requirement already satisfied: tensorflow-io-gcs-filesystem>=0.23.1 in /usr/local/lib/python3.8/dist-packages (from tensorflow->keras-rl2) (0.30.0)\n",
            "Requirement already satisfied: tensorboard<2.10,>=2.9 in /usr/local/lib/python3.8/dist-packages (from tensorflow->keras-rl2) (2.9.1)\n",
            "Requirement already satisfied: packaging in /usr/local/lib/python3.8/dist-packages (from tensorflow->keras-rl2) (23.0)\n",
            "Requirement already satisfied: wheel<1.0,>=0.23.0 in /usr/local/lib/python3.8/dist-packages (from astunparse>=1.6.0->tensorflow->keras-rl2) (0.38.4)\n",
            "Requirement already satisfied: tensorboard-plugin-wit>=1.6.0 in /usr/local/lib/python3.8/dist-packages (from tensorboard<2.10,>=2.9->tensorflow->keras-rl2) (1.8.1)\n",
            "Requirement already satisfied: markdown>=2.6.8 in /usr/local/lib/python3.8/dist-packages (from tensorboard<2.10,>=2.9->tensorflow->keras-rl2) (3.4.1)\n",
            "Requirement already satisfied: google-auth-oauthlib<0.5,>=0.4.1 in /usr/local/lib/python3.8/dist-packages (from tensorboard<2.10,>=2.9->tensorflow->keras-rl2) (0.4.6)\n",
            "Requirement already satisfied: tensorboard-data-server<0.7.0,>=0.6.0 in /usr/local/lib/python3.8/dist-packages (from tensorboard<2.10,>=2.9->tensorflow->keras-rl2) (0.6.1)\n",
            "Requirement already satisfied: google-auth<3,>=1.6.3 in /usr/local/lib/python3.8/dist-packages (from tensorboard<2.10,>=2.9->tensorflow->keras-rl2) (2.16.0)\n",
            "Requirement already satisfied: werkzeug>=1.0.1 in /usr/local/lib/python3.8/dist-packages (from tensorboard<2.10,>=2.9->tensorflow->keras-rl2) (1.0.1)\n",
            "Requirement already satisfied: requests<3,>=2.21.0 in /usr/local/lib/python3.8/dist-packages (from tensorboard<2.10,>=2.9->tensorflow->keras-rl2) (2.25.1)\n",
            "Requirement already satisfied: pyasn1-modules>=0.2.1 in /usr/local/lib/python3.8/dist-packages (from google-auth<3,>=1.6.3->tensorboard<2.10,>=2.9->tensorflow->keras-rl2) (0.2.8)\n",
            "Requirement already satisfied: rsa<5,>=3.1.4 in /usr/local/lib/python3.8/dist-packages (from google-auth<3,>=1.6.3->tensorboard<2.10,>=2.9->tensorflow->keras-rl2) (4.9)\n",
            "Requirement already satisfied: cachetools<6.0,>=2.0.0 in /usr/local/lib/python3.8/dist-packages (from google-auth<3,>=1.6.3->tensorboard<2.10,>=2.9->tensorflow->keras-rl2) (5.3.0)\n",
            "Requirement already satisfied: requests-oauthlib>=0.7.0 in /usr/local/lib/python3.8/dist-packages (from google-auth-oauthlib<0.5,>=0.4.1->tensorboard<2.10,>=2.9->tensorflow->keras-rl2) (1.3.1)\n",
            "Requirement already satisfied: importlib-metadata>=4.4 in /usr/local/lib/python3.8/dist-packages (from markdown>=2.6.8->tensorboard<2.10,>=2.9->tensorflow->keras-rl2) (6.0.0)\n",
            "Requirement already satisfied: chardet<5,>=3.0.2 in /usr/local/lib/python3.8/dist-packages (from requests<3,>=2.21.0->tensorboard<2.10,>=2.9->tensorflow->keras-rl2) (4.0.0)\n",
            "Requirement already satisfied: idna<3,>=2.5 in /usr/local/lib/python3.8/dist-packages (from requests<3,>=2.21.0->tensorboard<2.10,>=2.9->tensorflow->keras-rl2) (2.10)\n",
            "Requirement already satisfied: urllib3<1.27,>=1.21.1 in /usr/local/lib/python3.8/dist-packages (from requests<3,>=2.21.0->tensorboard<2.10,>=2.9->tensorflow->keras-rl2) (1.24.3)\n",
            "Requirement already satisfied: certifi>=2017.4.17 in /usr/local/lib/python3.8/dist-packages (from requests<3,>=2.21.0->tensorboard<2.10,>=2.9->tensorflow->keras-rl2) (2022.12.7)\n",
            "Requirement already satisfied: zipp>=0.5 in /usr/local/lib/python3.8/dist-packages (from importlib-metadata>=4.4->markdown>=2.6.8->tensorboard<2.10,>=2.9->tensorflow->keras-rl2) (3.12.0)\n",
            "Requirement already satisfied: pyasn1<0.5.0,>=0.4.6 in /usr/local/lib/python3.8/dist-packages (from pyasn1-modules>=0.2.1->google-auth<3,>=1.6.3->tensorboard<2.10,>=2.9->tensorflow->keras-rl2) (0.4.8)\n",
            "Requirement already satisfied: oauthlib>=3.0.0 in /usr/local/lib/python3.8/dist-packages (from requests-oauthlib>=0.7.0->google-auth-oauthlib<0.5,>=0.4.1->tensorboard<2.10,>=2.9->tensorflow->keras-rl2) (3.2.2)\n",
            "Looking in indexes: https://pypi.org/simple, https://us-python.pkg.dev/colab-wheels/public/simple/\n",
            "Requirement already satisfied: gym[classic_control] in /usr/local/lib/python3.8/dist-packages (0.25.2)\n",
            "Requirement already satisfied: importlib-metadata>=4.8.0 in /usr/local/lib/python3.8/dist-packages (from gym[classic_control]) (6.0.0)\n",
            "Requirement already satisfied: numpy>=1.18.0 in /usr/local/lib/python3.8/dist-packages (from gym[classic_control]) (1.21.6)\n",
            "Requirement already satisfied: gym-notices>=0.0.4 in /usr/local/lib/python3.8/dist-packages (from gym[classic_control]) (0.0.8)\n",
            "Requirement already satisfied: cloudpickle>=1.2.0 in /usr/local/lib/python3.8/dist-packages (from gym[classic_control]) (2.2.1)\n",
            "Requirement already satisfied: pygame==2.1.0 in /usr/local/lib/python3.8/dist-packages (from gym[classic_control]) (2.1.0)\n",
            "Requirement already satisfied: zipp>=0.5 in /usr/local/lib/python3.8/dist-packages (from importlib-metadata>=4.8.0->gym[classic_control]) (3.12.0)\n",
            "Looking in indexes: https://pypi.org/simple, https://us-python.pkg.dev/colab-wheels/public/simple/\n",
            "Collecting pyvirtualdisplay\n",
            "  Downloading PyVirtualDisplay-3.0-py3-none-any.whl (15 kB)\n",
            "Installing collected packages: pyvirtualdisplay\n",
            "Successfully installed pyvirtualdisplay-3.0\n"
          ]
        }
      ]
    },
    {
      "cell_type": "code",
      "source": [
        "import gym \n",
        "import random\n",
        "from rl.agents import DDPGAgent\n",
        "from rl.policy import BoltzmannQPolicy\n",
        "from rl.memory import SequentialMemory\n",
        "import numpy as np\n",
        "from pyvirtualdisplay import Display\n",
        "!apt-get install -y xvfb ffmpeg > /dev/null 2>&1\n",
        "!pip install pyvirtualdisplay > /dev/null 2>&1\n",
        "\n",
        "\n",
        "env = gym.make('MountainCarContinuous-v0')\n",
        "\n",
        "states = env.observation_space.shape[0]\n",
        "actions = env.action_space.shape[0]\n"
      ],
      "metadata": {
        "id": "Yyrn2p6qVqk3",
        "colab": {
          "base_uri": "https://localhost:8080/"
        },
        "outputId": "ade99957-a1a8-42f4-aaf3-8414135f9b44"
      },
      "execution_count": null,
      "outputs": [
        {
          "output_type": "stream",
          "name": "stderr",
          "text": [
            "/usr/local/lib/python3.8/dist-packages/gym/core.py:317: DeprecationWarning: \u001b[33mWARN: Initializing wrapper in old step API which returns one bool instead of two. It is recommended to set `new_step_api=True` to use new step API. This will be the default behaviour in future.\u001b[0m\n",
            "  deprecation(\n",
            "/usr/local/lib/python3.8/dist-packages/gym/wrappers/step_api_compatibility.py:39: DeprecationWarning: \u001b[33mWARN: Initializing environment in old step API which returns one bool instead of two. It is recommended to set `new_step_api=True` to use new step API. This will be the default behaviour in future.\u001b[0m\n",
            "  deprecation(\n"
          ]
        }
      ]
    },
    {
      "cell_type": "code",
      "source": [
        "import matplotlib.pyplot as plt\n",
        "\n",
        "def render_as_image(env):\n",
        "    plt.imshow(env.render(mode='rgb_array'))\n",
        "    plt.axis('off')\n",
        "    plt.show()\n",
        "    render_as_image(env)"
      ],
      "metadata": {
        "id": "0BTvTMJzVEdt"
      },
      "execution_count": null,
      "outputs": []
    },
    {
      "cell_type": "code",
      "source": [
        "\n",
        "import base64\n",
        "import io\n",
        "from IPython import display as ipythondisplay\n",
        "\n",
        "def embed_video(video_path, width=640):\n",
        "    content = io.open(video_path, 'rb').read()\n",
        "    b64 = base64.b64encode(content)\n",
        "    video_tag = '''\n",
        "        \n",
        "    '''.format(b64.decode(), width)\n",
        "    ipythondisplay.display(ipythondisplay.HTML(video_tag))"
      ],
      "metadata": {
        "id": "atMIoKYZVbLp"
      },
      "execution_count": null,
      "outputs": []
    },
    {
      "cell_type": "code",
      "source": [
        "import imageio\n",
        "from datetime import datetime\n",
        "\n",
        "def random_filename():\n",
        "    return datetime.now().strftime('%Y_%m_%d_%H_%M_%S.mp4')\n",
        "\n",
        "class VideoRecorder:\n",
        "    def __init__(self, filename=random_filename(), fps=30):\n",
        "        self.filename = filename\n",
        "        self.writer = imageio.get_writer(filename, fps=fps)\n",
        "\n",
        "    def record_frame(self, env):\n",
        "        frame = env.render(mode='rgb_array')\n",
        "        self.writer.append_data(frame)\n",
        "\n",
        "    def close(self, *args, **kwargs):\n",
        "        self.writer.close(*args, **kwargs)\n",
        "\n",
        "    def play(self):\n",
        "        self.close()\n",
        "        embed_video(self.filename)\n",
        "\n",
        "    def __enter__(self):\n",
        "        return self\n",
        "\n",
        "    def __exit__(self, type, value, traceback):\n",
        "        self.play()"
      ],
      "metadata": {
        "id": "s8lfS-ASVcx0"
      },
      "execution_count": null,
      "outputs": []
    },
    {
      "cell_type": "code",
      "source": [
        "!pip install imageio-ffmpeg\n",
        "with VideoRecorder() as rec:\n",
        "    obs = env.reset()\n",
        "    while True:\n",
        "        rec.record_frame(env)\n",
        "        action = env.action_space.sample() \n",
        "        obs, reward, done, info = env.step(action)\n",
        "        if done:\n",
        "            break\n",
        "     "
      ],
      "metadata": {
        "colab": {
          "base_uri": "https://localhost:8080/",
          "height": 222
        },
        "id": "h6JlfrpcVj66",
        "outputId": "e5efc2d9-52d9-49cd-d69e-5b57975e6bb1"
      },
      "execution_count": null,
      "outputs": [
        {
          "output_type": "stream",
          "name": "stdout",
          "text": [
            "Looking in indexes: https://pypi.org/simple, https://us-python.pkg.dev/colab-wheels/public/simple/\n",
            "Collecting imageio-ffmpeg\n",
            "  Downloading imageio_ffmpeg-0.4.8-py3-none-manylinux2010_x86_64.whl (26.9 MB)\n",
            "\u001b[2K     \u001b[90m━━━━━━━━━━━━━━━━━━━━━━━━━━━━━━━━━━━━━━━━\u001b[0m \u001b[32m26.9/26.9 MB\u001b[0m \u001b[31m24.8 MB/s\u001b[0m eta \u001b[36m0:00:00\u001b[0m\n",
            "\u001b[?25hInstalling collected packages: imageio-ffmpeg\n",
            "Successfully installed imageio-ffmpeg-0.4.8\n"
          ]
        },
        {
          "output_type": "stream",
          "name": "stderr",
          "text": [
            "/usr/local/lib/python3.8/dist-packages/gym/core.py:43: DeprecationWarning: \u001b[33mWARN: The argument mode in render method is deprecated; use render_mode during environment initialization instead.\n",
            "See here for more information: https://www.gymlibrary.ml/content/api/\u001b[0m\n",
            "  deprecation(\n",
            "WARNING:imageio_ffmpeg:IMAGEIO FFMPEG_WRITER WARNING: input image is not divisible by macro_block_size=16, resizing from (600, 400) to (608, 400) to ensure video compatibility with most codecs and players. To prevent resizing, make your input image divisible by the macro_block_size or set the macro_block_size to 1 (risking incompatibility).\n"
          ]
        },
        {
          "output_type": "display_data",
          "data": {
            "text/plain": [
              "<IPython.core.display.HTML object>"
            ],
            "text/html": [
              "\n",
              "        \n",
              "    "
            ]
          },
          "metadata": {}
        }
      ]
    },
    {
      "cell_type": "code",
      "source": [
        "from tensorflow.keras.models import Sequential\n",
        "from keras.models import Sequential, Model\n",
        "from keras.layers import Dense, Activation, Flatten, Input, Concatenate\n",
        "from keras.optimizers import Adam\n",
        "from rl.agents import DDPGAgent\n",
        "from rl.memory import SequentialMemory\n",
        "from rl.random import OrnsteinUhlenbeckProcess\n",
        "\n",
        "# Next, we build a very simple model.\n",
        "actor = Sequential()\n",
        "actor.add(Flatten(input_shape=(1,) + env.observation_space.shape))\n",
        "actor.add(Dense(32))\n",
        "actor.add(Activation('relu'))\n",
        "actor.add(Dense(32))\n",
        "actor.add(Activation('relu'))\n",
        "actor.add(Dense(32))\n",
        "actor.add(Activation('relu'))\n",
        "actor.add(Dense(actions))\n",
        "actor.add(Activation('tanh'))\n",
        "print(actor.summary())\n",
        "\n",
        "action_input = Input(shape=(actions,), name='action_input')\n",
        "observation_input = Input(shape=(1,) + env.observation_space.shape, name='observation_input')\n",
        "flattened_observation = Flatten()(observation_input)\n",
        "x = Concatenate()([action_input, flattened_observation])\n",
        "x = Dense(32)(x)\n",
        "x = Activation('relu')(x)\n",
        "x = Dense(32)(x)\n",
        "x = Activation('relu')(x)\n",
        "x = Dense(32)(x)\n",
        "x = Activation('relu')(x)\n",
        "x = Dense(1)(x)\n",
        "x = Activation('linear')(x)\n",
        "critic = Model(inputs=[action_input, observation_input], outputs=x)\n",
        "print(critic.summary())\n",
        "\n",
        "# Finally, we configure and compile our agent. You can use every built-in Keras optimizer and\n",
        "# even the metrics!\n",
        "memory = SequentialMemory(limit=100000, window_length=1)\n",
        "random_process = OrnsteinUhlenbeckProcess(size=actions, theta=.15, mu=0., sigma=.3)"
      ],
      "metadata": {
        "colab": {
          "base_uri": "https://localhost:8080/"
        },
        "id": "p8zvrxH4v0RD",
        "outputId": "e51727e3-99c9-4d61-e9a2-45fcf4fa37f9"
      },
      "execution_count": null,
      "outputs": [
        {
          "output_type": "stream",
          "name": "stdout",
          "text": [
            "Model: \"sequential_7\"\n",
            "_________________________________________________________________\n",
            " Layer (type)                Output Shape              Param #   \n",
            "=================================================================\n",
            " flatten_9 (Flatten)         (None, 2)                 0         \n",
            "                                                                 \n",
            " dense_35 (Dense)            (None, 32)                96        \n",
            "                                                                 \n",
            " activation_35 (Activation)  (None, 32)                0         \n",
            "                                                                 \n",
            " dense_36 (Dense)            (None, 32)                1056      \n",
            "                                                                 \n",
            " activation_36 (Activation)  (None, 32)                0         \n",
            "                                                                 \n",
            " dense_37 (Dense)            (None, 32)                1056      \n",
            "                                                                 \n",
            " activation_37 (Activation)  (None, 32)                0         \n",
            "                                                                 \n",
            " dense_38 (Dense)            (None, 1)                 33        \n",
            "                                                                 \n",
            " activation_38 (Activation)  (None, 1)                 0         \n",
            "                                                                 \n",
            "=================================================================\n",
            "Total params: 2,241\n",
            "Trainable params: 2,241\n",
            "Non-trainable params: 0\n",
            "_________________________________________________________________\n",
            "None\n",
            "Model: \"model_4\"\n",
            "__________________________________________________________________________________________________\n",
            " Layer (type)                   Output Shape         Param #     Connected to                     \n",
            "==================================================================================================\n",
            " observation_input (InputLayer)  [(None, 1, 2)]      0           []                               \n",
            "                                                                                                  \n",
            " action_input (InputLayer)      [(None, 1)]          0           []                               \n",
            "                                                                                                  \n",
            " flatten_10 (Flatten)           (None, 2)            0           ['observation_input[0][0]']      \n",
            "                                                                                                  \n",
            " concatenate_4 (Concatenate)    (None, 3)            0           ['action_input[0][0]',           \n",
            "                                                                  'flatten_10[0][0]']             \n",
            "                                                                                                  \n",
            " dense_39 (Dense)               (None, 32)           128         ['concatenate_4[0][0]']          \n",
            "                                                                                                  \n",
            " activation_39 (Activation)     (None, 32)           0           ['dense_39[0][0]']               \n",
            "                                                                                                  \n",
            " dense_40 (Dense)               (None, 32)           1056        ['activation_39[0][0]']          \n",
            "                                                                                                  \n",
            " activation_40 (Activation)     (None, 32)           0           ['dense_40[0][0]']               \n",
            "                                                                                                  \n",
            " dense_41 (Dense)               (None, 32)           1056        ['activation_40[0][0]']          \n",
            "                                                                                                  \n",
            " activation_41 (Activation)     (None, 32)           0           ['dense_41[0][0]']               \n",
            "                                                                                                  \n",
            " dense_42 (Dense)               (None, 1)            33          ['activation_41[0][0]']          \n",
            "                                                                                                  \n",
            " activation_42 (Activation)     (None, 1)            0           ['dense_42[0][0]']               \n",
            "                                                                                                  \n",
            "==================================================================================================\n",
            "Total params: 2,273\n",
            "Trainable params: 2,273\n",
            "Non-trainable params: 0\n",
            "__________________________________________________________________________________________________\n",
            "None\n"
          ]
        }
      ]
    },
    {
      "cell_type": "code",
      "source": [
        "agent1=DDPGAgent(nb_actions=actions, actor=actor, critic=critic, critic_action_input=action_input, memory=memory, gamma=0.95, batch_size=32,\n",
        "                         nb_steps_warmup_critic=1000, nb_steps_warmup_actor=1000, train_interval=1, memory_interval=1,\n",
        "                         delta_range=None, random_process=random_process, custom_model_objects={}, target_model_update=0.001)"
      ],
      "metadata": {
        "id": "FO6i9KiqifB5"
      },
      "execution_count": null,
      "outputs": []
    },
    {
      "cell_type": "code",
      "source": [
        "agent1.compile(Adam(lr=.0001), metrics=['mse'])\n",
        "\n",
        "# Okay, now it's time to learn something! We visualize the training here for show, but this\n",
        "# slows down training quite a lot. You can always safely abort the training prematurely using\n",
        "# Ctrl + C.\n",
        "#for No available video device error\n",
        "import os\n",
        "os.environ[\"SDL_VIDEODRIVER\"] = \"dummy\"\n",
        "\n",
        "agent1.fit(env, nb_steps=50000, visualize=True, verbose=1, nb_max_episode_steps=999)"
      ],
      "metadata": {
        "colab": {
          "base_uri": "https://localhost:8080/"
        },
        "id": "OwW0geYVxfYF",
        "outputId": "d4be61a7-713b-427e-fe0d-13dc74765972"
      },
      "execution_count": null,
      "outputs": [
        {
          "output_type": "stream",
          "name": "stdout",
          "text": [
            "Training for 50000 steps ...\n",
            "Interval 1 (0 steps performed)\n",
            "10000/10000 [==============================] - 336s 33ms/step - reward: -0.0198\n",
            "10 episodes - episode_reward: -19.546 [-78.716, 74.890] - loss: 0.017 - mse: 0.035 - mean_q: 0.041\n",
            "\n",
            "Interval 2 (10000 steps performed)\n",
            "10000/10000 [==============================] - 331s 33ms/step - reward: -0.0264\n",
            "10 episodes - episode_reward: -26.497 [-62.801, -7.356] - loss: 0.418 - mse: 0.835 - mean_q: 0.021\n",
            "\n",
            "Interval 3 (20000 steps performed)\n",
            "10000/10000 [==============================] - 332s 33ms/step - reward: -0.0399\n",
            "10 episodes - episode_reward: -38.600 [-75.736, -5.570] - loss: 0.182 - mse: 0.364 - mean_q: 0.020\n",
            "\n",
            "Interval 4 (30000 steps performed)\n",
            "10000/10000 [==============================] - 332s 33ms/step - reward: -0.0170\n",
            "10 episodes - episode_reward: -17.223 [-29.218, -6.240] - loss: 0.089 - mse: 0.179 - mean_q: 0.017\n",
            "\n",
            "Interval 5 (40000 steps performed)\n",
            "10000/10000 [==============================] - 332s 33ms/step - reward: -0.0304\n",
            "done, took 1661.963 seconds\n"
          ]
        },
        {
          "output_type": "execute_result",
          "data": {
            "text/plain": [
              "<keras.callbacks.History at 0x7fada3c37400>"
            ]
          },
          "metadata": {},
          "execution_count": 43
        }
      ]
    },
    {
      "cell_type": "code",
      "source": [
        "scores = agent1.test(env, nb_episodes=100, visualize=False)\n",
        "print(np.mean(scores.history['episode_reward']))"
      ],
      "metadata": {
        "colab": {
          "base_uri": "https://localhost:8080/"
        },
        "id": "5cn0qV2S53cQ",
        "outputId": "05ad6147-f094-4fe2-e3fb-c20b73880f04"
      },
      "execution_count": null,
      "outputs": [
        {
          "output_type": "stream",
          "name": "stdout",
          "text": [
            "Testing for 100 episodes ...\n",
            "Episode 1: reward: -0.900, steps: 999\n",
            "Episode 2: reward: -0.893, steps: 999\n",
            "Episode 3: reward: -0.850, steps: 999\n",
            "Episode 4: reward: -0.898, steps: 999\n",
            "Episode 5: reward: -0.901, steps: 999\n",
            "Episode 6: reward: -0.896, steps: 999\n",
            "Episode 7: reward: -0.809, steps: 999\n",
            "Episode 8: reward: -0.758, steps: 999\n",
            "Episode 9: reward: -0.839, steps: 999\n",
            "Episode 10: reward: -0.901, steps: 999\n",
            "Episode 11: reward: -0.894, steps: 999\n",
            "Episode 12: reward: -0.890, steps: 999\n",
            "Episode 13: reward: -0.796, steps: 999\n",
            "Episode 14: reward: -0.901, steps: 999\n",
            "Episode 15: reward: -0.902, steps: 999\n",
            "Episode 16: reward: -0.872, steps: 999\n",
            "Episode 17: reward: -0.900, steps: 999\n",
            "Episode 18: reward: -0.902, steps: 999\n",
            "Episode 19: reward: -0.791, steps: 999\n",
            "Episode 20: reward: -0.901, steps: 999\n",
            "Episode 21: reward: -0.899, steps: 999\n",
            "Episode 22: reward: -0.742, steps: 999\n",
            "Episode 23: reward: -0.827, steps: 999\n",
            "Episode 24: reward: -0.798, steps: 999\n",
            "Episode 25: reward: -0.834, steps: 999\n",
            "Episode 26: reward: -0.841, steps: 999\n",
            "Episode 27: reward: -0.898, steps: 999\n",
            "Episode 28: reward: -0.855, steps: 999\n",
            "Episode 29: reward: -0.900, steps: 999\n",
            "Episode 30: reward: -0.891, steps: 999\n",
            "Episode 31: reward: -0.889, steps: 999\n",
            "Episode 32: reward: -0.901, steps: 999\n",
            "Episode 33: reward: -0.895, steps: 999\n",
            "Episode 34: reward: -0.828, steps: 999\n",
            "Episode 35: reward: -0.870, steps: 999\n",
            "Episode 36: reward: -0.886, steps: 999\n",
            "Episode 37: reward: -0.745, steps: 999\n",
            "Episode 38: reward: -0.826, steps: 999\n",
            "Episode 39: reward: -0.835, steps: 999\n",
            "Episode 40: reward: -0.901, steps: 999\n",
            "Episode 41: reward: -0.902, steps: 999\n",
            "Episode 42: reward: -0.850, steps: 999\n",
            "Episode 43: reward: -0.789, steps: 999\n",
            "Episode 44: reward: -0.901, steps: 999\n",
            "Episode 45: reward: -0.774, steps: 999\n",
            "Episode 46: reward: -0.851, steps: 999\n",
            "Episode 47: reward: -0.889, steps: 999\n",
            "Episode 48: reward: -0.845, steps: 999\n",
            "Episode 49: reward: -0.901, steps: 999\n",
            "Episode 50: reward: -0.795, steps: 999\n",
            "Episode 51: reward: -0.775, steps: 999\n",
            "Episode 52: reward: -0.865, steps: 999\n",
            "Episode 53: reward: -0.898, steps: 999\n",
            "Episode 54: reward: -0.902, steps: 999\n",
            "Episode 55: reward: -0.816, steps: 999\n",
            "Episode 56: reward: -0.880, steps: 999\n",
            "Episode 57: reward: -0.895, steps: 999\n",
            "Episode 58: reward: -0.901, steps: 999\n",
            "Episode 59: reward: -0.831, steps: 999\n",
            "Episode 60: reward: -0.746, steps: 999\n",
            "Episode 61: reward: -0.752, steps: 999\n",
            "Episode 62: reward: -0.894, steps: 999\n",
            "Episode 63: reward: -0.902, steps: 999\n",
            "Episode 64: reward: -0.841, steps: 999\n",
            "Episode 65: reward: -0.818, steps: 999\n",
            "Episode 66: reward: -0.901, steps: 999\n",
            "Episode 67: reward: -0.758, steps: 999\n",
            "Episode 68: reward: -0.738, steps: 999\n",
            "Episode 69: reward: -0.901, steps: 999\n",
            "Episode 70: reward: -0.895, steps: 999\n",
            "Episode 71: reward: -0.805, steps: 999\n",
            "Episode 72: reward: -0.891, steps: 999\n",
            "Episode 73: reward: -0.899, steps: 999\n",
            "Episode 74: reward: -0.815, steps: 999\n",
            "Episode 75: reward: -0.902, steps: 999\n",
            "Episode 76: reward: -0.898, steps: 999\n",
            "Episode 77: reward: -0.900, steps: 999\n",
            "Episode 78: reward: -0.902, steps: 999\n",
            "Episode 79: reward: -0.842, steps: 999\n",
            "Episode 80: reward: -0.901, steps: 999\n",
            "Episode 81: reward: -0.892, steps: 999\n",
            "Episode 82: reward: -0.891, steps: 999\n",
            "Episode 83: reward: -0.840, steps: 999\n",
            "Episode 84: reward: -0.865, steps: 999\n",
            "Episode 85: reward: -0.901, steps: 999\n",
            "Episode 86: reward: -0.890, steps: 999\n",
            "Episode 87: reward: -0.901, steps: 999\n",
            "Episode 88: reward: -0.901, steps: 999\n",
            "Episode 89: reward: -0.895, steps: 999\n",
            "Episode 90: reward: -0.814, steps: 999\n",
            "Episode 91: reward: -0.785, steps: 999\n",
            "Episode 92: reward: -0.879, steps: 999\n",
            "Episode 93: reward: -0.857, steps: 999\n",
            "Episode 94: reward: -0.901, steps: 999\n",
            "Episode 95: reward: -0.741, steps: 999\n",
            "Episode 96: reward: -0.902, steps: 999\n",
            "Episode 97: reward: -0.889, steps: 999\n",
            "Episode 98: reward: -0.901, steps: 999\n",
            "Episode 99: reward: -0.819, steps: 999\n",
            "Episode 100: reward: -0.901, steps: 999\n",
            "-0.8598207083091017\n"
          ]
        }
      ]
    }
  ]
}